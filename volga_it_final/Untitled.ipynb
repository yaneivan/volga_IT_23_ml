{
 "cells": [
  {
   "cell_type": "code",
   "execution_count": 1,
   "id": "e996daff",
   "metadata": {},
   "outputs": [],
   "source": [
    "import pandas as pd\n",
    "\n",
    "import tqdm\n",
    "\n",
    "import pickle"
   ]
  },
  {
   "cell_type": "code",
   "execution_count": 2,
   "id": "5be8ccb4",
   "metadata": {},
   "outputs": [
    {
     "name": "stdout",
     "output_type": "stream",
     "text": [
      "<bound method NDFrame.head of                                 house_uuid   latitude  longitude  \\\n",
      "0     b885de0f-09df-441f-85a6-bb28b468cea2  54.280637  48.310075   \n",
      "1     ac845abb-39e4-4b59-b1ca-d01a6b883b6a  54.327441  48.388516   \n",
      "2     fcbdc6c9-8c50-4a9d-9f2a-3da4f0d8432b  54.333380  48.491670   \n",
      "3     837ff3e3-6b90-459b-926d-230dcf8a7169  53.650325  47.114310   \n",
      "4     00588c27-989b-4d05-bf28-872c37831c9f  54.273530  48.286130   \n",
      "...                                    ...        ...        ...   \n",
      "5750  c4e0ce30-df67-49e3-a9ab-b54264293bf7  54.226301  48.093087   \n",
      "5751  7992d45d-2e74-4f4b-b7c0-85ce5a7d8056  54.277110  48.282410   \n",
      "5752  41924162-917f-45c4-b2dd-2c2e5069cfce  54.327908  48.486855   \n",
      "5753  8b62ab41-dc72-4bfe-aa2f-6f564d7e0b07  54.275023  48.331051   \n",
      "5754  2c4ba761-efb9-4401-84e3-d87ae6b46cf0  54.423633  48.171412   \n",
      "\n",
      "      end_devices_count  \n",
      "0                    60  \n",
      "1                    35  \n",
      "2                    38  \n",
      "3                    22  \n",
      "4                   101  \n",
      "...                 ...  \n",
      "5750                 24  \n",
      "5751                 66  \n",
      "5752                180  \n",
      "5753                 12  \n",
      "5754                 16  \n",
      "\n",
      "[5755 rows x 4 columns]>\n"
     ]
    }
   ],
   "source": [
    "df = pd.read_csv('task.csv', delimiter=';')\n",
    "\n",
    "print(df.head)\n"
   ]
  },
  {
   "cell_type": "code",
   "execution_count": null,
   "id": "724aab47",
   "metadata": {},
   "outputs": [],
   "source": []
  },
  {
   "cell_type": "code",
   "execution_count": 3,
   "id": "e15977ab",
   "metadata": {},
   "outputs": [
    {
     "data": {
      "text/plain": [
       "(5755, 4)"
      ]
     },
     "execution_count": 3,
     "metadata": {},
     "output_type": "execute_result"
    }
   ],
   "source": [
    "df.shape"
   ]
  },
  {
   "cell_type": "code",
   "execution_count": 4,
   "id": "e5e2b6a5",
   "metadata": {},
   "outputs": [],
   "source": [
    "class bs1:\n",
    "    radius = 1000\n",
    "    free_users = 2000\n",
    "    capacity = 2000\n",
    "    cost = 50000\n",
    "    \n",
    "class bs2:\n",
    "    radius = 2000\n",
    "    free_users = 10000\n",
    "    capacity = 10000\n",
    "    cost = 180000"
   ]
  },
  {
   "cell_type": "code",
   "execution_count": 27,
   "id": "97ad09bd",
   "metadata": {},
   "outputs": [],
   "source": [
    "from geopy.distance import great_circle as GRC\n",
    "from math import radians, cos, sin, asin, sqrt\n",
    "\n",
    "class House:\n",
    "    def __init__(self, uuid, lat, lon, count, has_bs):\n",
    "        self.uuid = uuid\n",
    "        self.lat = lat\n",
    "        self.lon = lon\n",
    "        self.count = count\n",
    "        self.not_connected = count\n",
    "        self.bs = has_bs\n",
    "        \n",
    "    def place_station(self, station, city):\n",
    "        if station == 'bs1':\n",
    "            self.bs = bs1()\n",
    "        if station == 'bs2':\n",
    "            self.bs = bs2()\n",
    "        for i in self.closest:\n",
    "            #print('tut', i)\n",
    "            if self.distance_d(city.get_by_uuid(i)) > self.bs.radius:\n",
    "                break\n",
    "            if self.bs.free_users > 0:\n",
    "                '''\n",
    "                if self.bs.free_users >= self.not_connected:\n",
    "                    self.bs.free_users -= self.not_connected\n",
    "                    self.not_connected = 0\n",
    "                elif self.bs.free_users < self.not_connected:\n",
    "                    self.not_connected -= self.bs.free_users\n",
    "                    self.bs.free_users = 0\n",
    "                '''\n",
    "                if self.bs.free_users >= city.get_by_uuid(i).not_connected:\n",
    "                    self.bs.free_users -= city.get_by_uuid(i).not_connected\n",
    "                    city.get_by_uuid(i).not_connected = 0\n",
    "                elif self.bs.free_users < city.get_by_uuid(i).not_connected:\n",
    "                    city.get_by_uuid(i).not_connected -= self.bs.free_users\n",
    "                    self.bs.free_users = 0\n",
    "                \n",
    "                \n",
    "    def try_station(self, station):\n",
    "        if station == 'bs1':\n",
    "            bs = bs1()\n",
    "        if station == 'bs2':\n",
    "            bs = bs2()\n",
    "        for i in self.closest:\n",
    "            if self.distance_d(city.get_by_uuid(i)) > bs.radius:\n",
    "                break\n",
    "            if bs.free_users > 0:\n",
    "                if bs.free_users >= city.get_by_uuid(i).not_connected:\n",
    "                    bs.free_users -= city.get_by_uuid(i).not_connected\n",
    "                elif bs.free_users < city.get_by_uuid(i).not_connected:\n",
    "                    bs.free_users = 0\n",
    "        connected = bs.capacity - bs.free_users\n",
    "        return connected/bs.cost\n",
    "            \n",
    "        \n",
    "    def find_neighbours(self, mas):\n",
    "        dists = {}\n",
    "        for i in range(len(mas)):\n",
    "            dists.update({i:self.distance_d(mas[i])})\n",
    "        closest = dict(sorted(dists.items(), key=lambda item: item[1]))\n",
    "        tmp = []\n",
    "        for i in closest:\n",
    "            tmp.append(mas[i].uuid)\n",
    "            #if len(tmp) == 11:\n",
    "            #    break\n",
    "                \n",
    "        #у нас где-то несколько домов по одному адресу\n",
    "        try:\n",
    "            tmp.remove(self.uuid)\n",
    "        except:\n",
    "            #print(closest)\n",
    "            pass\n",
    "        \n",
    "        self.closest = tmp\n",
    "        return closest\n",
    "    \n",
    "    #реально расстояние но медленное\n",
    "    def dist_in_m(self, target):\n",
    "        c_1 = (self.lat, self.lon)\n",
    "        c_2 = (target.lat, target.lon)\n",
    "\n",
    "        return GRC(c_1,c_2).km * 1000\n",
    "            \n",
    "    #бесполезное расстояние\n",
    "    def dist_to_house(self, target):\n",
    "        from math import sqrt\n",
    "        return sqrt((self.lat-target.lat)**2 + (self.lon-target.lon)**2)\n",
    "    \n",
    "    #расстояние без ООП\n",
    "    def find_dist(self, to_house):\n",
    "        from math import sqrt\n",
    "        return sqrt((self.lat-to_house[1])**2 + (self.lon-to_house[2])**2)\n",
    "    \n",
    "    #находим расстояние реально в метрах и быстро\n",
    "    def distance_d(self, target):\n",
    "        LoA = self.lon \n",
    "        LoB = target.lon  \n",
    "        LaA= self.lat  \n",
    "        LaB = target.lat \n",
    "        # The function \"radians\" is found in the math module, It's also used to convert radians to degrees.  \n",
    "        LoA = radians(LoA)  \n",
    "        LoB = radians(LoB)  \n",
    "        LaA= radians(LaA)  \n",
    "        LaB = radians(LaB) \n",
    "        # The \"Haversine formula\" is used.\n",
    "        D_Lo = LoB - LoA \n",
    "        D_La = LaB - LaA \n",
    "        P = sin(D_La / 2)**2 + cos(LaA) * cos(LaB) * sin(D_Lo / 2)**2  \n",
    "\n",
    "        Q = 2 * asin(sqrt(P))   \n",
    "            # The earth's radius in kilometers.\n",
    "        R_km = 6371  \n",
    "        # Then we'll compute the outcome.\n",
    "        return(Q * R_km) * 1000\n"
   ]
  },
  {
   "cell_type": "code",
   "execution_count": 48,
   "id": "5e246a1c",
   "metadata": {},
   "outputs": [],
   "source": [
    "class City:\n",
    "    def __init__(self, arr):\n",
    "        self.houses = arr\n",
    "        \n",
    "    def get_by_uuid(self, uuid):\n",
    "        for i in self.houses:\n",
    "            if i.uuid == uuid:\n",
    "                return i\n",
    "            \n",
    "    def get_percent(self):\n",
    "        total = 1\n",
    "        connected = 1\n",
    "        for i in self.houses:\n",
    "            total += i.count\n",
    "            connected += i.count - i.not_connected\n",
    "        return connected/total\n",
    "    \n",
    "    def place_by_num(self, num):\n",
    "        while self.houses[num].bs != False:\n",
    "            if num >= len(self.houses):\n",
    "                num = 0\n",
    "            num+=1        \n",
    "        self.houses[num].place_station('bs1', self)\n",
    "        return self.houses[num].uuid\n",
    "    \n",
    "    def place_by_uuid(self, uuid, station):\n",
    "        for house in self.houses:\n",
    "            if house.uuid == uuid:\n",
    "                house.place_station(station, self)\n",
    "                break\n",
    "\n",
    "    ################\n",
    "    def get_house_by_coords(self, coords):\n",
    "        dists = {}\n",
    "        for i in range(len(self.houses)):\n",
    "            dists.update({i:self.get_distance(coords, self.houses[i])})\n",
    "        closest = dict(sorted(dists.items(), key=lambda item: item[1]))\n",
    "        for i in closest:\n",
    "            house = self.houses[i]\n",
    "            break\n",
    "        return house.uuid\n",
    "        \n",
    "        #находим расстояние реально в метрах и быстро\n",
    "    def get_distance(self, coords, target):\n",
    "        LoA = coords[1] \n",
    "        LoB = target.lon  \n",
    "        LaA= coords[0]  \n",
    "        LaB = target.lat \n",
    "        # The function \"radians\" is found in the math module, It's also used to convert radians to degrees.  \n",
    "        LoA = radians(LoA)  \n",
    "        LoB = radians(LoB)  \n",
    "        LaA= radians(LaA)  \n",
    "        LaB = radians(LaB) \n",
    "        # The \"Haversine formula\" is used.\n",
    "        D_Lo = LoB - LoA \n",
    "        D_La = LaB - LaA \n",
    "        P = sin(D_La / 2)**2 + cos(LaA) * cos(LaB) * sin(D_Lo / 2)**2  \n",
    "\n",
    "        Q = 2 * asin(sqrt(P))   \n",
    "            # The earth's radius in kilometers.\n",
    "        R_km = 6371  \n",
    "        # Then we'll compute the outcome.\n",
    "        return(Q * R_km) * 1000"
   ]
  },
  {
   "cell_type": "code",
   "execution_count": 51,
   "id": "566e6d31",
   "metadata": {},
   "outputs": [
    {
     "name": "stderr",
     "output_type": "stream",
     "text": [
      "100%|████████████████████████████████████████████████████████████████████████████████| 260/260 [01:17<00:00,  3.37it/s]"
     ]
    },
    {
     "name": "stdout",
     "output_type": "stream",
     "text": [
      "0.7977881182855393\n"
     ]
    },
    {
     "name": "stderr",
     "output_type": "stream",
     "text": [
      "\n"
     ]
    }
   ],
   "source": [
    "##############ыыыыыыыыыыыыыыыыыыыы\n",
    "\n",
    "with open('mas.pkl', 'rb') as f:\n",
    "    tmp = pickle.load(f)\n",
    "city = City(tmp)\n",
    "\n",
    "from sklearn.cluster import KMeans\n",
    "import numpy as np\n",
    "\n",
    "tmp = []\n",
    "\n",
    "for house in city.houses:\n",
    "    tmp.append([house.lat, house.lon])\n",
    "    \n",
    "arr = np.array(tmp)\n",
    "\n",
    "kmeans = KMeans(n_clusters=260, random_state=0, n_init=\"auto\").fit(arr)\n",
    "#250 мало\n",
    "\n",
    "centers = kmeans.cluster_centers_\n",
    "\n",
    "result = []\n",
    "for cent in tqdm.tqdm(centers, total=len(centers)):\n",
    "    uuid = city.get_house_by_coords(cent)\n",
    "    s1 = city.get_by_uuid(uuid).try_station('bs1')\n",
    "    s2 = city.get_by_uuid(uuid).try_station('bs2')\n",
    "    #print(sq1, sq2)\n",
    "    if s1 < s2:  \n",
    "        city.place_by_uuid(uuid, 'bs1')\n",
    "        result.append([uuid, 1])\n",
    "        \n",
    "    elif s2>s1:\n",
    "        city.place_by_uuid(uuid, 'bs2')\n",
    "        result.append([uuid, 2])\n",
    "\n",
    "        \n",
    "        \n",
    "print(city.get_percent())\n",
    "\n",
    "\n",
    "result = pd.DataFrame(result, columns=['house_uuid', 'type'])\n",
    "result.to_csv(\"K.csv\", sep=';', index = False)"
   ]
  },
  {
   "cell_type": "code",
   "execution_count": null,
   "id": "436de799",
   "metadata": {},
   "outputs": [],
   "source": []
  },
  {
   "cell_type": "code",
   "execution_count": 36,
   "id": "341f91e1",
   "metadata": {},
   "outputs": [
    {
     "name": "stdout",
     "output_type": "stream",
     "text": [
      "0.04 0.05555555555555555\n"
     ]
    }
   ],
   "source": [
    "s1 = city.houses[100].try_station('bs1')\n",
    "s2 = city.houses[100].try_station('bs2')\n",
    "print(s1, s2)"
   ]
  },
  {
   "cell_type": "markdown",
   "id": "6ffc3874",
   "metadata": {},
   "source": [
    "# generate data array"
   ]
  },
  {
   "cell_type": "code",
   "execution_count": null,
   "id": "b63746ae",
   "metadata": {},
   "outputs": [
    {
     "name": "stderr",
     "output_type": "stream",
     "text": [
      "100%|███████████████████████████████████████████████████████████████████████████| 5755/5755 [00:00<00:00, 21893.06it/s]\n",
      " 56%|███████████████████████████████████████████▌                                  | 3215/5755 [01:02<00:48, 52.89it/s]"
     ]
    }
   ],
   "source": [
    "mas = []\n",
    "\n",
    "l_up = (54.48116, 48.148)\n",
    "r_dw = (54.07614, 49)\n",
    "\n",
    "for index, row in tqdm.tqdm(df.iterrows(), total=df.shape[0]):\n",
    "    #if row['latitude'] <= l_up[0] and row['latitude'] >= r_dw[0] and row['longitude'] >= l_up[1] and row['longitude']<=r_dw[1]:\n",
    "        mas.append([row['house_uuid'], row['latitude'], row['longitude'], row['end_devices_count']])\n",
    "  \n",
    "tmp_mas = mas.copy()\n",
    "\n",
    "\n",
    "for index in range(len(mas)):\n",
    "    row = mas[index]\n",
    "\n",
    "    mas[index] = House(row[0], row[1], row[2], row[3], False)\n",
    "\n",
    "    \n",
    "\n",
    "# находим расстояние от каждого дома до каждого дома урааа\n",
    "for house in tqdm.tqdm(mas, total = len(mas)):\n",
    "    house.find_neighbours(mas)\n",
    "        \n",
    "    \n",
    "\n"
   ]
  },
  {
   "cell_type": "code",
   "execution_count": 8,
   "id": "57bd1d1e",
   "metadata": {},
   "outputs": [],
   "source": [
    "\n",
    "\n",
    "with open('mas.pkl', 'wb') as f:\n",
    "    pickle.dump(mas, f)\n",
    "    "
   ]
  },
  {
   "cell_type": "markdown",
   "id": "2f43edb2",
   "metadata": {},
   "source": [
    "# Random solution"
   ]
  },
  {
   "cell_type": "code",
   "execution_count": 27,
   "id": "a0980391",
   "metadata": {},
   "outputs": [
    {
     "name": "stdout",
     "output_type": "stream",
     "text": [
      "3537\n"
     ]
    },
    {
     "name": "stderr",
     "output_type": "stream",
     "text": [
      "100%|████████████████████████████████████████████████████████████████████████████████| 349/349 [00:27<00:00, 12.85it/s]"
     ]
    },
    {
     "name": "stdout",
     "output_type": "stream",
     "text": [
      "0.9487875698573077\n"
     ]
    },
    {
     "name": "stderr",
     "output_type": "stream",
     "text": [
      "\n"
     ]
    }
   ],
   "source": [
    "from random import randint\n",
    "\n",
    "with open('mas.pkl', 'rb') as f:\n",
    "    tmp = pickle.load(f)\n",
    "    \n",
    "    \n",
    "city = City(tmp)\n",
    "result = []\n",
    "result_tmp = []\n",
    "\n",
    "print(len(city.houses))\n",
    "\n",
    "for i in tqdm.tqdm(range(1, 350)):\n",
    "    h_uuid = city.place_by_num(randint(0, len(city.houses)-1))\n",
    "\n",
    "    result.append([h_uuid, 1])\n",
    "    result_tmp.append(h_uuid)\n",
    "    \n",
    "for i in result_tmp:\n",
    "    if result_tmp.count(i) > 1:\n",
    "        print(i)\n",
    "\n",
    "    \n",
    "    \n",
    "#print(sorted(result))\n",
    "print(city.get_percent())\n",
    "\n",
    "\n",
    "result = pd.DataFrame(result, columns=['house_uuid', 'type'])\n",
    "result.to_csv(\"Random.csv\", sep=';', index = False)"
   ]
  },
  {
   "cell_type": "code",
   "execution_count": null,
   "id": "56dc65d6",
   "metadata": {},
   "outputs": [],
   "source": []
  },
  {
   "cell_type": "code",
   "execution_count": null,
   "id": "849bcd78",
   "metadata": {},
   "outputs": [],
   "source": []
  },
  {
   "cell_type": "code",
   "execution_count": 51,
   "id": "32b777c3",
   "metadata": {},
   "outputs": [
    {
     "data": {
      "text/plain": [
       "array([[54.280637, 48.310075],\n",
       "       [54.327441, 48.388516],\n",
       "       [54.33338 , 48.49167 ],\n",
       "       ...,\n",
       "       [54.327908, 48.486855],\n",
       "       [54.275023, 48.331051],\n",
       "       [54.423633, 48.171412]])"
      ]
     },
     "execution_count": 51,
     "metadata": {},
     "output_type": "execute_result"
    }
   ],
   "source": [
    "arr"
   ]
  },
  {
   "cell_type": "code",
   "execution_count": null,
   "id": "90f83510",
   "metadata": {},
   "outputs": [],
   "source": []
  },
  {
   "cell_type": "code",
   "execution_count": null,
   "id": "78308598",
   "metadata": {},
   "outputs": [],
   "source": []
  },
  {
   "cell_type": "code",
   "execution_count": null,
   "id": "b6ddfc5f",
   "metadata": {},
   "outputs": [],
   "source": []
  },
  {
   "cell_type": "markdown",
   "id": "1298c6d9",
   "metadata": {},
   "source": [
    "# Check solution"
   ]
  },
  {
   "cell_type": "code",
   "execution_count": 22,
   "id": "7774a27d",
   "metadata": {},
   "outputs": [
    {
     "name": "stderr",
     "output_type": "stream",
     "text": [
      "29it [00:00, 926.47it/s]\n"
     ]
    },
    {
     "data": {
      "text/plain": [
       "0.7419931160480867"
      ]
     },
     "execution_count": 22,
     "metadata": {},
     "output_type": "execute_result"
    }
   ],
   "source": [
    "\n",
    "\n",
    "city = City(mas.copy())\n",
    "eval_pos = pd.read_csv('result-example.csv', delimiter=';')\n",
    "\n",
    "for index, row in tqdm.tqdm(eval_pos.iterrows()):\n",
    "    if row['type'] == 1:\n",
    "        h = city.get_by_uuid(row['house_uuid'])\n",
    "        if h == None:\n",
    "            continue\n",
    "        #print(row['house_uuid'])\n",
    "        h.place_station('bs1')\n",
    "    \n",
    "    elif row['type'] == 2:\n",
    "        city.get_by_uuid(row['house_uuid']).place_station('bs2')\n",
    "\n",
    "    \n",
    "    \n",
    "city.get_percent()"
   ]
  },
  {
   "cell_type": "code",
   "execution_count": null,
   "id": "117c924c",
   "metadata": {},
   "outputs": [],
   "source": []
  },
  {
   "cell_type": "code",
   "execution_count": null,
   "id": "4a7efdf7",
   "metadata": {},
   "outputs": [],
   "source": []
  },
  {
   "cell_type": "code",
   "execution_count": null,
   "id": "a99d3c71",
   "metadata": {},
   "outputs": [],
   "source": []
  },
  {
   "cell_type": "code",
   "execution_count": null,
   "id": "c211b79b",
   "metadata": {},
   "outputs": [],
   "source": []
  },
  {
   "cell_type": "code",
   "execution_count": null,
   "id": "8609d099",
   "metadata": {},
   "outputs": [],
   "source": []
  },
  {
   "cell_type": "code",
   "execution_count": null,
   "id": "2f917849",
   "metadata": {},
   "outputs": [],
   "source": []
  },
  {
   "cell_type": "code",
   "execution_count": null,
   "id": "4224eb22",
   "metadata": {},
   "outputs": [],
   "source": [
    "import pytorch\n",
    "import torch.nn as nn\n",
    "\n",
    "\n",
    "class hz_model(nn.Module):\n",
    "    def __init__(self, types):\n",
    "        super().__init__()\n",
    "        self.dropout = nn.Dropout(0.25)\n",
    "        self.relu = nn.ReLU()\n",
    "        self.fc1 = nn.Linear(1024,512)\n",
    "        self.fc2 = nn.Linear(512,types)\n",
    "        self.softmax = nn.LogSoftmax(dim = 1)\n",
    "\n",
    "    def forward(self, x):\n",
    "        x = self.fc1(x)\n",
    "        x = self.relu(x)\n",
    "        x = self.dropout(x)\n",
    "        x = self.fc2(x)\n",
    "        x = self.softmax(x)\n",
    "        return x"
   ]
  },
  {
   "cell_type": "code",
   "execution_count": null,
   "id": "4da371d0",
   "metadata": {},
   "outputs": [],
   "source": []
  },
  {
   "cell_type": "code",
   "execution_count": 8,
   "id": "5963493f",
   "metadata": {},
   "outputs": [
    {
     "name": "stderr",
     "output_type": "stream",
     "text": [
      "100%|█████████████████████████████████████████████████████████████████████████████| 3537/3537 [00:04<00:00, 858.78it/s]\n"
     ]
    },
    {
     "data": {
      "application/vnd.jupyter.widget-view+json": {
       "model_id": "c2915cfbaacb425989dffc008b82b3ab",
       "version_major": 2,
       "version_minor": 0
      },
      "text/plain": [
       "Map(center=[54.33338, 48.49167], controls=(ZoomControl(options=['position', 'zoom_in_text', 'zoom_in_title', '…"
      ]
     },
     "execution_count": 8,
     "metadata": {},
     "output_type": "execute_result"
    },
    {
     "name": "stderr",
     "output_type": "stream",
     "text": [
      "No such comm: c2915cfbaacb425989dffc008b82b3ab\n",
      "No such comm: c2915cfbaacb425989dffc008b82b3ab\n",
      "No such comm: c2915cfbaacb425989dffc008b82b3ab\n",
      "No such comm: c2915cfbaacb425989dffc008b82b3ab\n"
     ]
    }
   ],
   "source": [
    "from ipyleaflet import Map, Marker, Circle, CircleMarker, AwesomeIcon, Heatmap,DivIcon, MarkerCluster\n",
    "\n",
    "\n",
    "#      latitude    longitude\n",
    "center = (54.33338, 48.49167)\n",
    "\n",
    "m = Map(center=center, zoom=15)\n",
    "\n",
    "markers = []\n",
    "\n",
    "for house in tqdm.tqdm(mas):\n",
    "    markers.append(Marker(location=(house.lat, house.lon), title=str(house.not_connected)))\n",
    "    \n",
    "marker_cluster = MarkerCluster(\n",
    "    markers=markers\n",
    ")\n",
    "\n",
    "m.add_layer(marker_cluster);\n",
    "\n",
    "m"
   ]
  },
  {
   "cell_type": "code",
   "execution_count": null,
   "id": "928a0211",
   "metadata": {},
   "outputs": [],
   "source": []
  },
  {
   "cell_type": "code",
   "execution_count": null,
   "id": "d5d2171e",
   "metadata": {},
   "outputs": [],
   "source": []
  },
  {
   "cell_type": "code",
   "execution_count": null,
   "id": "27e6e0fc",
   "metadata": {},
   "outputs": [],
   "source": []
  },
  {
   "cell_type": "code",
   "execution_count": null,
   "id": "0c314556",
   "metadata": {},
   "outputs": [],
   "source": [
    "'''import folium\n",
    "from folium.features import DivIcon\n",
    "\n",
    "m = folium.Map(location=(54.33338, 48.49167))\n",
    "\n",
    "for index, row in df.iterrows():\n",
    "    p1 = (row['latitude'], row['longitude'])\n",
    "    folium.Marker(p1, icon=DivIcon(\n",
    "        icon_size=(150,36),\n",
    "        icon_anchor=(7,20),\n",
    "        html='<div style=\"font-size: 18pt; color : black\">'+str(row['end_devices_count'])+'</div>',\n",
    "        )).add_to(m)\n",
    "    m.add_child(folium.CircleMarker(p1, radius=15))\n",
    "    \n",
    "    \n",
    "\n",
    "m\n",
    "''''''"
   ]
  },
  {
   "cell_type": "code",
   "execution_count": null,
   "id": "c8856c84",
   "metadata": {},
   "outputs": [],
   "source": []
  },
  {
   "cell_type": "code",
   "execution_count": null,
   "id": "97cd7192",
   "metadata": {},
   "outputs": [],
   "source": []
  },
  {
   "cell_type": "code",
   "execution_count": null,
   "id": "43556384",
   "metadata": {},
   "outputs": [],
   "source": []
  },
  {
   "cell_type": "code",
   "execution_count": null,
   "id": "e11e2e2f",
   "metadata": {},
   "outputs": [],
   "source": []
  },
  {
   "cell_type": "code",
   "execution_count": null,
   "id": "fb54770c",
   "metadata": {},
   "outputs": [],
   "source": []
  },
  {
   "cell_type": "code",
   "execution_count": null,
   "id": "3a172d69",
   "metadata": {},
   "outputs": [],
   "source": []
  }
 ],
 "metadata": {
  "kernelspec": {
   "display_name": "Python 3 (ipykernel)",
   "language": "python",
   "name": "python3"
  },
  "language_info": {
   "codemirror_mode": {
    "name": "ipython",
    "version": 3
   },
   "file_extension": ".py",
   "mimetype": "text/x-python",
   "name": "python",
   "nbconvert_exporter": "python",
   "pygments_lexer": "ipython3",
   "version": "3.8.0"
  }
 },
 "nbformat": 4,
 "nbformat_minor": 5
}
