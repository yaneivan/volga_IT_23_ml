{
 "cells": [
  {
   "cell_type": "code",
   "execution_count": 1,
   "id": "ef31bc00",
   "metadata": {
    "colab": {
     "base_uri": "https://localhost:8080/"
    },
    "executionInfo": {
     "elapsed": 3505,
     "status": "ok",
     "timestamp": 1696862886926,
     "user": {
      "displayName": "Антон Бабкин",
      "userId": "11833288714987979986"
     },
     "user_tz": -180
    },
    "id": "ef31bc00",
    "outputId": "8c7ba1e3-f285-4bfe-e844-5e155833d9fe"
   },
   "outputs": [
    {
     "name": "stdout",
     "output_type": "stream",
     "text": [
      "cuda\n"
     ]
    }
   ],
   "source": [
    "from tqdm import tqdm\n",
    "tqdm.pandas()\n",
    "\n",
    "import numpy as np\n",
    "import os\n",
    "\n",
    "import torch\n",
    "import torch.nn as nn\n",
    "from torch.utils.data import TensorDataset, DataLoader, RandomSampler, SequentialSampler\n",
    "\n",
    "\n",
    "import matplotlib.pyplot as plt\n",
    "\n",
    "import transformers\n",
    "from transformers import AutoModel, BertTokenizer\n",
    "\n",
    "import pandas as pd\n",
    "import sklearn\n",
    "from sklearn.model_selection import train_test_split\n",
    "\n",
    "\n",
    "device = torch.device('cuda' if torch.cuda.is_available() else 'cpu')\n",
    "print(device)\n"
   ]
  },
  {
   "cell_type": "code",
   "execution_count": 2,
   "id": "197dbaa7",
   "metadata": {
    "colab": {
     "base_uri": "https://localhost:8080/"
    },
    "executionInfo": {
     "elapsed": 549,
     "status": "ok",
     "timestamp": 1696863071910,
     "user": {
      "displayName": "Антон Бабкин",
      "userId": "11833288714987979986"
     },
     "user_tz": -180
    },
    "id": "197dbaa7",
    "outputId": "9e0714ad-f28d-40c3-eb9b-6ac9e6ff9839"
   },
   "outputs": [
    {
     "name": "stdout",
     "output_type": "stream",
     "text": [
      "amount 22 97\n"
     ]
    }
   ],
   "source": [
    "df = pd.read_csv('L.csv' ,delimiter=';', encoding='cp1251')\n",
    "\n",
    "df['Target'] = df['Group']\n",
    "\n",
    "\n",
    "#one hot encoding\n",
    "amount_of_classes = len(df['Target'].unique())\n",
    "\n",
    "encoder = sklearn.preprocessing.LabelBinarizer()\n",
    "y = encoder.fit_transform(df['Target'])\n",
    "\n",
    "\n",
    "y = pd.DataFrame(y)\n",
    "# df = pd.concat([df, y], axis=1)\n",
    "columns_to_convert = [int(i) for i in range(amount_of_classes)]\n",
    "\n",
    "\n",
    "df['Target_2'] = df['Cat'] \n",
    "amount_of_classes_2 = len(df['Target_2'].unique())\n",
    "encoder_2 = sklearn.preprocessing.LabelBinarizer()\n",
    "y_2 = encoder_2.fit_transform(df['Target_2'])\n",
    "y_2 = pd.DataFrame(y_2, columns=[str(i)+'_1' for i in range(amount_of_classes_2)])\n",
    "df = pd.concat([df, y, y_2], axis=1)\n",
    "columns_to_convert_2 = [str(i)+'_1' for i in range(amount_of_classes_2)]\n",
    "\n",
    "print('amount', amount_of_classes, amount_of_classes_2)"
   ]
  },
  {
   "cell_type": "code",
   "execution_count": null,
   "id": "bb78ec2c",
   "metadata": {},
   "outputs": [],
   "source": []
  },
  {
   "cell_type": "code",
   "execution_count": 3,
   "id": "edf0aa3f",
   "metadata": {
    "executionInfo": {
     "elapsed": 13,
     "status": "ok",
     "timestamp": 1696863071911,
     "user": {
      "displayName": "Антон Бабкин",
      "userId": "11833288714987979986"
     },
     "user_tz": -180
    },
    "id": "edf0aa3f"
   },
   "outputs": [],
   "source": [
    "train, test = train_test_split(df, test_size=0.2, random_state=42)\n",
    "train, val = train_test_split(train, test_size=0.25, random_state=42)\n",
    "\n",
    "\n",
    "train_x = train['Desc']\n",
    "train_y = train[columns_to_convert+columns_to_convert_2].to_numpy()\n",
    "\n",
    "test_x = test['Desc']\n",
    "test_y = test[columns_to_convert+columns_to_convert_2].to_numpy()\n",
    "\n",
    "\n",
    "val_x = val['Desc']\n",
    "val_y = val[columns_to_convert+columns_to_convert_2].to_numpy()"
   ]
  },
  {
   "cell_type": "code",
   "execution_count": 4,
   "id": "9b3cd42a",
   "metadata": {
    "colab": {
     "base_uri": "https://localhost:8080/",
     "height": 177,
     "referenced_widgets": [
      "6a4728af925f41a69229f6aac21ae741",
      "7a4c9169b3064b449661a13899a5457c",
      "b4348a557ec641d3be9ed828c7fb5126",
      "d09a5afe8e9244808dbd5a90b0f9a3b9",
      "a9abf24964ae46eebc49b4f9475000dc",
      "eeb2964555df4f56b7b0740d3ba7399a",
      "6411abb7597c47a8a36b5bafe79292e4",
      "70ce9b00e340413c974515410f9fe15e",
      "b8f903032ff34e318f2d41bc3bdfafc6",
      "3a8a35eaeeec4c46ac183f5cd9083861",
      "bcab64dabd294eb883ca523ab2c7312c",
      "a654b16b4304450db39de4b3f9dc56c0",
      "2d85ae221a524408a49c86575c738817",
      "43d8792c398e4164ad2dee9603514577",
      "d83ca6c2c6de4702863da17f98a6337d",
      "5cb6b6744b514c36a6b795017efadfe3",
      "c946c3f5103c482dbe6f2788078829a8",
      "db693d8fa9734c508bb1b6f04169deb5",
      "c419f22082204fafaac6b82384d12ebf",
      "c68138410cac4ec28d71b95d205ccb9d",
      "c8d1e814a6cd4ea19ae1043fa4b30dd6",
      "a5fd7eec008149f48f90bbfd5923d40b",
      "b958f2fca424497fa0b5fdd0e93425b7",
      "efb041e795234859ba1b3b37f2b5a5ad",
      "1f6342661efb46e4bfd839ce09166543",
      "94bf1579c70142a7920a446e805e325d",
      "0208e6cbe4f0485bb213d06fb183bca4",
      "b8c354e1975040599d7341cba24c482c",
      "8fe4c41d60824c81ac455137e6efa6e4",
      "dc3aec24f75b47bc8bc8a3d3b2bae0e2",
      "79cb6f06341046819158d244f9f0e4d8",
      "b4f5c654ffb94f678d53676a220ef57e",
      "b3006e8bad3547728235d17c6e5fef21",
      "0898688d59b74593bf35b6ce0af62dc3",
      "dd5b33e51e304b96b34f7b530243f4c5",
      "86831175b8554cb49911d570b4f18a2a",
      "89221fdeb62d447580dda067a8647a5a",
      "79c0664dba9942d4b49d060767b53554",
      "c9972fd328ad4487a04611d42049b559",
      "12df6dac46c5427db68685fd3980b47d",
      "4b488858e6a74df3894dd2837b86f241",
      "0ec14257cf0542a395125638b22c3e1a",
      "b92b13f075374ce99eca5995ae66ccdf",
      "8a71cb4e6d3a454592cfbbb33bc0bc31",
      "dcbb29cd790f49c4b4234ceb34e21e28",
      "8bb02e3a2fd04c73a1f517dbd51b26e7",
      "96c063c8bf674ad29de6dab03e61a1bb",
      "3672221c1036419b8f9b7e6560cfc286",
      "0993f8ab73924ee28b9e181dbb951edc",
      "61d2f26ca419408dae3288e34b720b49",
      "be99a5a8bbe347179aab9f44bd13cb56",
      "3b3b9b7577064217b8b760a7ddc994d9",
      "46f7303b886e4871b0d07461e5896989",
      "76676012a36747da9c98f6dc4c210e18",
      "9aed13efe3b54716ac30b2224a8984aa"
     ]
    },
    "executionInfo": {
     "elapsed": 30110,
     "status": "ok",
     "timestamp": 1696863102013,
     "user": {
      "displayName": "Антон Бабкин",
      "userId": "11833288714987979986"
     },
     "user_tz": -180
    },
    "id": "9b3cd42a",
    "outputId": "adff4c05-2e24-4942-8f4b-875d7cdd9d1b"
   },
   "outputs": [
    {
     "data": {
      "text/plain": [
       "BertModel(\n",
       "  (embeddings): BertEmbeddings(\n",
       "    (word_embeddings): Embedding(119547, 768, padding_idx=0)\n",
       "    (position_embeddings): Embedding(512, 768)\n",
       "    (token_type_embeddings): Embedding(2, 768)\n",
       "    (LayerNorm): LayerNorm((768,), eps=1e-12, elementwise_affine=True)\n",
       "    (dropout): Dropout(p=0.1, inplace=False)\n",
       "  )\n",
       "  (encoder): BertEncoder(\n",
       "    (layer): ModuleList(\n",
       "      (0-11): 12 x BertLayer(\n",
       "        (attention): BertAttention(\n",
       "          (self): BertSelfAttention(\n",
       "            (query): Linear(in_features=768, out_features=768, bias=True)\n",
       "            (key): Linear(in_features=768, out_features=768, bias=True)\n",
       "            (value): Linear(in_features=768, out_features=768, bias=True)\n",
       "            (dropout): Dropout(p=0.1, inplace=False)\n",
       "          )\n",
       "          (output): BertSelfOutput(\n",
       "            (dense): Linear(in_features=768, out_features=768, bias=True)\n",
       "            (LayerNorm): LayerNorm((768,), eps=1e-12, elementwise_affine=True)\n",
       "            (dropout): Dropout(p=0.1, inplace=False)\n",
       "          )\n",
       "        )\n",
       "        (intermediate): BertIntermediate(\n",
       "          (dense): Linear(in_features=768, out_features=3072, bias=True)\n",
       "          (intermediate_act_fn): GELUActivation()\n",
       "        )\n",
       "        (output): BertOutput(\n",
       "          (dense): Linear(in_features=3072, out_features=768, bias=True)\n",
       "          (LayerNorm): LayerNorm((768,), eps=1e-12, elementwise_affine=True)\n",
       "          (dropout): Dropout(p=0.1, inplace=False)\n",
       "        )\n",
       "      )\n",
       "    )\n",
       "  )\n",
       "  (pooler): BertPooler(\n",
       "    (dense): Linear(in_features=768, out_features=768, bias=True)\n",
       "    (activation): Tanh()\n",
       "  )\n",
       ")"
      ]
     },
     "execution_count": 4,
     "metadata": {},
     "output_type": "execute_result"
    }
   ],
   "source": [
    "tokenizer = BertTokenizer.from_pretrained(\"DeepPavlov/rubert-base-cased-sentence\")\n",
    "bert = AutoModel.from_pretrained(\"DeepPavlov/rubert-base-cased-sentence\")\n",
    "bert.to(device)\n"
   ]
  },
  {
   "cell_type": "code",
   "execution_count": 5,
   "id": "4b11b617",
   "metadata": {},
   "outputs": [
    {
     "data": {
      "text/plain": [
       "\"\\nnew_vocabulary = {}\\n\\nfor i in tqdm(range(int(len(df)))):\\n    deb = str(df['Desc'][i]).split()\\n    for j in deb:\\n        if len(tokenizer.encode(j)) > 3:\\n            count = new_vocabulary.get(j, 0)\\n            new_vocabulary.update({j:count+1})\\n\\nnew_vocabulary = (sorted(new_vocabulary.items(), key=lambda item: -item[1]))\\nto_learn = []\\nfor i in new_vocabulary:\\n    if i[1]>5:\\n        to_learn.append(i[0])\\nto_learn = set(to_learn) - set(tokenizer.vocab.keys())\\ntokenizer.add_tokens(list(to_learn))\\nbert.resize_token_embeddings(len(tokenizer))\\n\""
      ]
     },
     "execution_count": 5,
     "metadata": {},
     "output_type": "execute_result"
    }
   ],
   "source": [
    "\n",
    "'''\n",
    "new_vocabulary = {}\n",
    "\n",
    "for i in tqdm(range(int(len(df)))):\n",
    "    deb = str(df['Desc'][i]).split()\n",
    "    for j in deb:\n",
    "        if len(tokenizer.encode(j)) > 3:\n",
    "            count = new_vocabulary.get(j, 0)\n",
    "            new_vocabulary.update({j:count+1})\n",
    "\n",
    "new_vocabulary = (sorted(new_vocabulary.items(), key=lambda item: -item[1]))\n",
    "to_learn = []\n",
    "for i in new_vocabulary:\n",
    "    if i[1]>5:\n",
    "        to_learn.append(i[0])\n",
    "to_learn = set(to_learn) - set(tokenizer.vocab.keys())\n",
    "tokenizer.add_tokens(list(to_learn))\n",
    "bert.resize_token_embeddings(len(tokenizer))\n",
    "'''"
   ]
  },
  {
   "cell_type": "code",
   "execution_count": null,
   "id": "de788821",
   "metadata": {},
   "outputs": [],
   "source": []
  },
  {
   "cell_type": "code",
   "execution_count": 6,
   "id": "648a8296",
   "metadata": {
    "executionInfo": {
     "elapsed": 11887,
     "status": "ok",
     "timestamp": 1696863113856,
     "user": {
      "displayName": "Антон Бабкин",
      "userId": "11833288714987979986"
     },
     "user_tz": -180
    },
    "id": "648a8296"
   },
   "outputs": [],
   "source": [
    "tokens_train = tokenizer.batch_encode_plus(train_x.astype('str'), max_length=10,\n",
    "                                          padding='max_length', truncation = True)\n",
    "tokens_val = tokenizer.batch_encode_plus(val_x.astype('str'), max_length=10,\n",
    "                                          padding='max_length', truncation = True)\n",
    "tokens_test = tokenizer.batch_encode_plus(test_x.astype('str'), max_length=10,\n",
    "                                          padding='max_length', truncation = True)\n",
    "\n",
    "\n",
    "train_seq = torch.tensor(tokens_train['input_ids'])\n",
    "train_mask = torch.tensor(tokens_train['attention_mask'])\n",
    "train_y = torch.tensor(train_y)\n",
    "\n",
    "test_seq = torch.tensor(tokens_test['input_ids'])\n",
    "test_mask = torch.tensor(tokens_test['attention_mask'])\n",
    "test_y = torch.tensor(test_y)\n",
    "\n",
    "val_seq = torch.tensor(tokens_val['input_ids'])\n",
    "val_mask = torch.tensor(tokens_val['attention_mask'])\n",
    "val_y = torch.tensor(val_y)"
   ]
  },
  {
   "cell_type": "code",
   "execution_count": 7,
   "id": "3b860c79",
   "metadata": {
    "executionInfo": {
     "elapsed": 49,
     "status": "ok",
     "timestamp": 1696863113857,
     "user": {
      "displayName": "Антон Бабкин",
      "userId": "11833288714987979986"
     },
     "user_tz": -180
    },
    "id": "3b860c79"
   },
   "outputs": [],
   "source": [
    "batch_size = 8\n",
    "\n",
    "train_data = TensorDataset(train_seq, train_mask, train_y)\n",
    "train_sampler = RandomSampler(train_data)\n",
    "train_dataloader = DataLoader(train_data, sampler=train_sampler, batch_size = batch_size)\n",
    "\n",
    "val_data = TensorDataset(val_seq, val_mask, val_y)\n",
    "val_sampler = SequentialSampler(val_data)\n",
    "val_dataloader = DataLoader(val_data, sampler=val_sampler, batch_size = batch_size)\n",
    "\n",
    "test_data = TensorDataset(test_seq, test_mask, test_y)\n",
    "test_sampler = SequentialSampler(test_data)\n",
    "test_dataloader = DataLoader(test_data, sampler=test_sampler, batch_size = batch_size)\n"
   ]
  },
  {
   "cell_type": "markdown",
   "id": "be938144",
   "metadata": {},
   "source": [
    "# !"
   ]
  },
  {
   "cell_type": "code",
   "execution_count": 8,
   "id": "08b89241",
   "metadata": {
    "executionInfo": {
     "elapsed": 39,
     "status": "ok",
     "timestamp": 1696863113858,
     "user": {
      "displayName": "Антон Бабкин",
      "userId": "11833288714987979986"
     },
     "user_tz": -180
    },
    "id": "08b89241"
   },
   "outputs": [],
   "source": [
    "for param in bert.parameters():\n",
    "    param.requires_grad = False\n",
    "    \n",
    "\n",
    "    \n",
    "class BERT_Arch(nn.Module):\n",
    "\n",
    "    def __init__(self):\n",
    "        super(BERT_Arch, self).__init__()\n",
    "        self.dropout = nn.Dropout(0.1)\n",
    "        self.relu = nn.ReLU()\n",
    "        self.fc1 = nn.Linear(768,512)\n",
    "        self.fc2 = nn.Linear(512,amount_of_classes)\n",
    "        self.softmax = nn.LogSoftmax(dim = 1)\n",
    "\n",
    "    def forward(self, cls_hs):\n",
    "        x = self.fc1(cls_hs)\n",
    "        x = self.relu(x)\n",
    "        x = self.dropout(x)\n",
    "        x = self.fc2(x)\n",
    "        x = self.softmax(x)\n",
    "        return x"
   ]
  },
  {
   "cell_type": "code",
   "execution_count": 9,
   "id": "97f396dc",
   "metadata": {
    "colab": {
     "base_uri": "https://localhost:8080/"
    },
    "executionInfo": {
     "elapsed": 36,
     "status": "ok",
     "timestamp": 1696863113860,
     "user": {
      "displayName": "Антон Бабкин",
      "userId": "11833288714987979986"
     },
     "user_tz": -180
    },
    "id": "97f396dc",
    "outputId": "9dfb199c-efde-47b1-d66c-19b485fec184"
   },
   "outputs": [
    {
     "name": "stderr",
     "output_type": "stream",
     "text": [
      "C:\\Users\\admin\\AppData\\Local\\Programs\\Python\\Python311\\Lib\\site-packages\\transformers\\optimization.py:411: FutureWarning: This implementation of AdamW is deprecated and will be removed in a future version. Use the PyTorch implementation torch.optim.AdamW instead, or set `no_deprecation_warning=True` to disable this warning\n",
      "  warnings.warn(\n"
     ]
    },
    {
     "data": {
      "text/plain": [
       "'..\\\\model\\\\model1.pt'"
      ]
     },
     "execution_count": 9,
     "metadata": {},
     "output_type": "execute_result"
    }
   ],
   "source": [
    "epochs = 30\n",
    "cross_entropy = nn.CrossEntropyLoss()\n",
    "\n",
    "model = BERT_Arch()\n",
    "\n",
    "model = model.to(device)\n",
    "from transformers import AdamW\n",
    "\n",
    "optimizer = AdamW(model.parameters(), lr= 1e-3)\n",
    "\n",
    "model_1_path = os.path.join('..', 'model', 'model1.pt')\n",
    "model_1_path"
   ]
  },
  {
   "cell_type": "code",
   "execution_count": 10,
   "id": "b6e4284f",
   "metadata": {
    "executionInfo": {
     "elapsed": 504,
     "status": "ok",
     "timestamp": 1696863114341,
     "user": {
      "displayName": "Антон Бабкин",
      "userId": "11833288714987979986"
     },
     "user_tz": -180
    },
    "id": "b6e4284f"
   },
   "outputs": [],
   "source": [
    "def evaluate():\n",
    "    model.eval()\n",
    "    total_loss, total_accuracy = 0,0\n",
    "    total_preds = []\n",
    "\n",
    "    for step, batch in tqdm(enumerate(val_dataloader), total = len(val_dataloader)):\n",
    "        batch = [t.to(device) for t in batch]\n",
    "        sent_id, mask, labels = batch\n",
    "        \n",
    "        labels = labels[:amount_of_classes]\n",
    "\n",
    "        with torch.no_grad():\n",
    "            _, cls_hs = bert(sent_id, mask, return_dict = False)\n",
    "            preds = model(cls_hs)\n",
    "\n",
    "            labels = torch.argmax(labels, dim=1)\n",
    "\n",
    "            loss = cross_entropy(preds, labels)\n",
    "            total_loss = total_loss + loss.item()\n",
    "            preds = preds.detach().cpu().numpy()\n",
    "            total_preds.append(preds)\n",
    "\n",
    "    avg_loss = total_loss / len(val_dataloader)\n",
    "    total_preds = np.concatenate(total_preds, axis = 0)\n",
    "\n",
    "    return avg_loss, total_preds"
   ]
  },
  {
   "cell_type": "code",
   "execution_count": 11,
   "id": "30ed8264",
   "metadata": {
    "executionInfo": {
     "elapsed": 30,
     "status": "ok",
     "timestamp": 1696863114344,
     "user": {
      "displayName": "Антон Бабкин",
      "userId": "11833288714987979986"
     },
     "user_tz": -180
    },
    "id": "30ed8264"
   },
   "outputs": [],
   "source": [
    "def train():\n",
    "    model.train()\n",
    "    total_loss, total_accuracy = 0, 0\n",
    "    total_preds = []\n",
    "\n",
    "    for step, batch in tqdm(enumerate(train_dataloader), total = len(train_dataloader)):\n",
    "        batch = [r.to(device) for r   in batch]\n",
    "        sent_id, mask, labels = batch\n",
    "        \n",
    "        labels = labels[:amount_of_classes]\n",
    "        \n",
    "        model.zero_grad()\n",
    "        _, cls_hs = bert(sent_id, mask, return_dict = False)\n",
    "        preds = model(cls_hs)\n",
    "\n",
    "        labels = torch.argmax(labels, dim=1)\n",
    "\n",
    " \n",
    "        loss = cross_entropy(preds, labels)\n",
    "        total_loss += loss.item()\n",
    "        loss.backward()\n",
    "        torch.nn.utils.clip_grad_norm_(model.parameters(), 1.0)\n",
    "        optimizer.step()\n",
    "        preds = preds.detach().cpu().numpy()\n",
    "        total_preds.append(preds)\n",
    "        \n",
    "\n",
    "    avg_loss = total_loss / len(train_dataloader)\n",
    "    total_preds = np.concatenate(total_preds, axis = 0)\n",
    "\n",
    "    return avg_loss, total_preds"
   ]
  },
  {
   "cell_type": "code",
   "execution_count": 13,
   "id": "46f8c15c",
   "metadata": {
    "colab": {
     "base_uri": "https://localhost:8080/"
    },
    "id": "46f8c15c",
    "outputId": "f968ca9f-49da-4ead-b674-c660342eeb0c"
   },
   "outputs": [
    {
     "name": "stdout",
     "output_type": "stream",
     "text": [
      "\n",
      " Epoch1 / 30\n"
     ]
    },
    {
     "name": "stderr",
     "output_type": "stream",
     "text": [
      "100%|██████████████████████████████████████████████████████████████████████████████| 3825/3825 [01:04<00:00, 59.08it/s]\n",
      "100%|██████████████████████████████████████████████████████████████████████████████| 1275/1275 [00:18<00:00, 69.54it/s]\n"
     ]
    },
    {
     "name": "stdout",
     "output_type": "stream",
     "text": [
      "\n",
      "Training loss: 0.146\n",
      "Validation loss: 0.100\n",
      "\n",
      " Epoch2 / 30\n"
     ]
    },
    {
     "name": "stderr",
     "output_type": "stream",
     "text": [
      "100%|██████████████████████████████████████████████████████████████████████████████| 3825/3825 [01:03<00:00, 60.26it/s]\n",
      "100%|██████████████████████████████████████████████████████████████████████████████| 1275/1275 [00:18<00:00, 70.23it/s]\n"
     ]
    },
    {
     "name": "stdout",
     "output_type": "stream",
     "text": [
      "\n",
      "Training loss: 0.119\n",
      "Validation loss: 0.098\n",
      "\n",
      " Epoch3 / 30\n"
     ]
    },
    {
     "name": "stderr",
     "output_type": "stream",
     "text": [
      "100%|██████████████████████████████████████████████████████████████████████████████| 3825/3825 [01:03<00:00, 60.28it/s]\n",
      "100%|██████████████████████████████████████████████████████████████████████████████| 1275/1275 [00:18<00:00, 70.12it/s]\n"
     ]
    },
    {
     "name": "stdout",
     "output_type": "stream",
     "text": [
      "\n",
      "Training loss: 0.110\n",
      "Validation loss: 0.112\n",
      "\n",
      " Epoch4 / 30\n"
     ]
    },
    {
     "name": "stderr",
     "output_type": "stream",
     "text": [
      "100%|██████████████████████████████████████████████████████████████████████████████| 3825/3825 [01:03<00:00, 60.67it/s]\n",
      "100%|██████████████████████████████████████████████████████████████████████████████| 1275/1275 [00:18<00:00, 70.42it/s]\n"
     ]
    },
    {
     "name": "stdout",
     "output_type": "stream",
     "text": [
      "\n",
      "Training loss: 0.103\n",
      "Validation loss: 0.093\n",
      "\n",
      " Epoch5 / 30\n"
     ]
    },
    {
     "name": "stderr",
     "output_type": "stream",
     "text": [
      "100%|██████████████████████████████████████████████████████████████████████████████| 3825/3825 [01:02<00:00, 61.12it/s]\n",
      "100%|██████████████████████████████████████████████████████████████████████████████| 1275/1275 [00:18<00:00, 68.36it/s]\n"
     ]
    },
    {
     "name": "stdout",
     "output_type": "stream",
     "text": [
      "\n",
      "Training loss: 0.099\n",
      "Validation loss: 0.088\n",
      "\n",
      " Epoch6 / 30\n"
     ]
    },
    {
     "name": "stderr",
     "output_type": "stream",
     "text": [
      "100%|██████████████████████████████████████████████████████████████████████████████| 3825/3825 [01:01<00:00, 61.75it/s]\n",
      "100%|██████████████████████████████████████████████████████████████████████████████| 1275/1275 [00:18<00:00, 70.27it/s]\n"
     ]
    },
    {
     "name": "stdout",
     "output_type": "stream",
     "text": [
      "\n",
      "Training loss: 0.094\n",
      "Validation loss: 0.085\n",
      "\n",
      " Epoch7 / 30\n"
     ]
    },
    {
     "name": "stderr",
     "output_type": "stream",
     "text": [
      "100%|██████████████████████████████████████████████████████████████████████████████| 3825/3825 [01:02<00:00, 61.09it/s]\n",
      "100%|██████████████████████████████████████████████████████████████████████████████| 1275/1275 [00:18<00:00, 69.97it/s]\n"
     ]
    },
    {
     "name": "stdout",
     "output_type": "stream",
     "text": [
      "\n",
      "Training loss: 0.088\n",
      "Validation loss: 0.088\n",
      "\n",
      " Epoch8 / 30\n"
     ]
    },
    {
     "name": "stderr",
     "output_type": "stream",
     "text": [
      "100%|██████████████████████████████████████████████████████████████████████████████| 3825/3825 [01:02<00:00, 60.77it/s]\n",
      "100%|██████████████████████████████████████████████████████████████████████████████| 1275/1275 [00:18<00:00, 69.56it/s]\n"
     ]
    },
    {
     "name": "stdout",
     "output_type": "stream",
     "text": [
      "\n",
      "Training loss: 0.088\n",
      "Validation loss: 0.087\n",
      "\n",
      " Epoch9 / 30\n"
     ]
    },
    {
     "name": "stderr",
     "output_type": "stream",
     "text": [
      "100%|██████████████████████████████████████████████████████████████████████████████| 3825/3825 [01:01<00:00, 61.87it/s]\n",
      "100%|██████████████████████████████████████████████████████████████████████████████| 1275/1275 [00:17<00:00, 71.15it/s]\n"
     ]
    },
    {
     "name": "stdout",
     "output_type": "stream",
     "text": [
      "\n",
      "Training loss: 0.086\n",
      "Validation loss: 0.100\n",
      "\n",
      " Epoch10 / 30\n"
     ]
    },
    {
     "name": "stderr",
     "output_type": "stream",
     "text": [
      "100%|██████████████████████████████████████████████████████████████████████████████| 3825/3825 [01:02<00:00, 61.28it/s]\n",
      "100%|██████████████████████████████████████████████████████████████████████████████| 1275/1275 [00:18<00:00, 70.52it/s]\n"
     ]
    },
    {
     "name": "stdout",
     "output_type": "stream",
     "text": [
      "\n",
      "Training loss: 0.086\n",
      "Validation loss: 0.092\n",
      "\n",
      " Epoch11 / 30\n"
     ]
    },
    {
     "name": "stderr",
     "output_type": "stream",
     "text": [
      "100%|██████████████████████████████████████████████████████████████████████████████| 3825/3825 [01:02<00:00, 61.45it/s]\n",
      "100%|██████████████████████████████████████████████████████████████████████████████| 1275/1275 [00:18<00:00, 69.86it/s]\n"
     ]
    },
    {
     "name": "stdout",
     "output_type": "stream",
     "text": [
      "\n",
      "Training loss: 0.082\n",
      "Validation loss: 0.084\n",
      "\n",
      " Epoch12 / 30\n"
     ]
    },
    {
     "name": "stderr",
     "output_type": "stream",
     "text": [
      "100%|██████████████████████████████████████████████████████████████████████████████| 3825/3825 [00:59<00:00, 63.94it/s]\n",
      "100%|██████████████████████████████████████████████████████████████████████████████| 1275/1275 [00:14<00:00, 88.59it/s]\n"
     ]
    },
    {
     "name": "stdout",
     "output_type": "stream",
     "text": [
      "\n",
      "Training loss: 0.080\n",
      "Validation loss: 0.096\n",
      "\n",
      " Epoch13 / 30\n"
     ]
    },
    {
     "name": "stderr",
     "output_type": "stream",
     "text": [
      "100%|██████████████████████████████████████████████████████████████████████████████| 3825/3825 [00:48<00:00, 79.25it/s]\n",
      "100%|██████████████████████████████████████████████████████████████████████████████| 1275/1275 [00:14<00:00, 88.62it/s]\n"
     ]
    },
    {
     "name": "stdout",
     "output_type": "stream",
     "text": [
      "\n",
      "Training loss: 0.079\n",
      "Validation loss: 0.090\n",
      "\n",
      " Epoch14 / 30\n"
     ]
    },
    {
     "name": "stderr",
     "output_type": "stream",
     "text": [
      "100%|██████████████████████████████████████████████████████████████████████████████| 3825/3825 [00:48<00:00, 79.25it/s]\n",
      "100%|██████████████████████████████████████████████████████████████████████████████| 1275/1275 [00:14<00:00, 88.59it/s]\n"
     ]
    },
    {
     "name": "stdout",
     "output_type": "stream",
     "text": [
      "\n",
      "Training loss: 0.077\n",
      "Validation loss: 0.112\n",
      "\n",
      " Epoch15 / 30\n"
     ]
    },
    {
     "name": "stderr",
     "output_type": "stream",
     "text": [
      "100%|██████████████████████████████████████████████████████████████████████████████| 3825/3825 [00:48<00:00, 79.23it/s]\n",
      "100%|██████████████████████████████████████████████████████████████████████████████| 1275/1275 [00:14<00:00, 88.57it/s]\n"
     ]
    },
    {
     "name": "stdout",
     "output_type": "stream",
     "text": [
      "\n",
      "Training loss: 0.077\n",
      "Validation loss: 0.090\n",
      "\n",
      " Epoch16 / 30\n"
     ]
    },
    {
     "name": "stderr",
     "output_type": "stream",
     "text": [
      "100%|██████████████████████████████████████████████████████████████████████████████| 3825/3825 [00:48<00:00, 79.24it/s]\n",
      "100%|██████████████████████████████████████████████████████████████████████████████| 1275/1275 [00:14<00:00, 88.57it/s]\n"
     ]
    },
    {
     "name": "stdout",
     "output_type": "stream",
     "text": [
      "\n",
      "Training loss: 0.076\n",
      "Validation loss: 0.087\n",
      "\n",
      " Epoch17 / 30\n"
     ]
    },
    {
     "name": "stderr",
     "output_type": "stream",
     "text": [
      "100%|██████████████████████████████████████████████████████████████████████████████| 3825/3825 [00:48<00:00, 79.26it/s]\n",
      "100%|██████████████████████████████████████████████████████████████████████████████| 1275/1275 [00:14<00:00, 88.54it/s]\n"
     ]
    },
    {
     "name": "stdout",
     "output_type": "stream",
     "text": [
      "\n",
      "Training loss: 0.074\n",
      "Validation loss: 0.088\n",
      "\n",
      " Epoch18 / 30\n"
     ]
    },
    {
     "name": "stderr",
     "output_type": "stream",
     "text": [
      "100%|██████████████████████████████████████████████████████████████████████████████| 3825/3825 [00:48<00:00, 79.30it/s]\n",
      "100%|██████████████████████████████████████████████████████████████████████████████| 1275/1275 [00:14<00:00, 88.53it/s]\n"
     ]
    },
    {
     "name": "stdout",
     "output_type": "stream",
     "text": [
      "\n",
      "Training loss: 0.074\n",
      "Validation loss: 0.114\n",
      "\n",
      " Epoch19 / 30\n"
     ]
    },
    {
     "name": "stderr",
     "output_type": "stream",
     "text": [
      "100%|██████████████████████████████████████████████████████████████████████████████| 3825/3825 [00:48<00:00, 79.34it/s]\n",
      "100%|██████████████████████████████████████████████████████████████████████████████| 1275/1275 [00:14<00:00, 88.58it/s]\n"
     ]
    },
    {
     "name": "stdout",
     "output_type": "stream",
     "text": [
      "\n",
      "Training loss: 0.074\n",
      "Validation loss: 0.084\n",
      "\n",
      " Epoch20 / 30\n"
     ]
    },
    {
     "name": "stderr",
     "output_type": "stream",
     "text": [
      "100%|██████████████████████████████████████████████████████████████████████████████| 3825/3825 [00:48<00:00, 79.31it/s]\n",
      "100%|██████████████████████████████████████████████████████████████████████████████| 1275/1275 [00:14<00:00, 88.60it/s]\n"
     ]
    },
    {
     "name": "stdout",
     "output_type": "stream",
     "text": [
      "\n",
      "Training loss: 0.071\n",
      "Validation loss: 0.094\n",
      "\n",
      " Epoch21 / 30\n"
     ]
    },
    {
     "name": "stderr",
     "output_type": "stream",
     "text": [
      "100%|██████████████████████████████████████████████████████████████████████████████| 3825/3825 [00:48<00:00, 79.29it/s]\n",
      "100%|██████████████████████████████████████████████████████████████████████████████| 1275/1275 [00:14<00:00, 88.60it/s]\n"
     ]
    },
    {
     "name": "stdout",
     "output_type": "stream",
     "text": [
      "\n",
      "Training loss: 0.073\n",
      "Validation loss: 0.087\n",
      "\n",
      " Epoch22 / 30\n"
     ]
    },
    {
     "name": "stderr",
     "output_type": "stream",
     "text": [
      "100%|██████████████████████████████████████████████████████████████████████████████| 3825/3825 [00:48<00:00, 79.26it/s]\n",
      "100%|██████████████████████████████████████████████████████████████████████████████| 1275/1275 [00:14<00:00, 88.65it/s]\n"
     ]
    },
    {
     "name": "stdout",
     "output_type": "stream",
     "text": [
      "\n",
      "Training loss: 0.068\n",
      "Validation loss: 0.109\n",
      "\n",
      " Epoch23 / 30\n"
     ]
    },
    {
     "name": "stderr",
     "output_type": "stream",
     "text": [
      "100%|██████████████████████████████████████████████████████████████████████████████| 3825/3825 [00:48<00:00, 79.25it/s]\n",
      "100%|██████████████████████████████████████████████████████████████████████████████| 1275/1275 [00:14<00:00, 88.64it/s]\n"
     ]
    },
    {
     "name": "stdout",
     "output_type": "stream",
     "text": [
      "\n",
      "Training loss: 0.067\n",
      "Validation loss: 0.087\n",
      "\n",
      " Epoch24 / 30\n"
     ]
    },
    {
     "name": "stderr",
     "output_type": "stream",
     "text": [
      "100%|██████████████████████████████████████████████████████████████████████████████| 3825/3825 [00:48<00:00, 79.36it/s]\n",
      "100%|██████████████████████████████████████████████████████████████████████████████| 1275/1275 [00:14<00:00, 88.31it/s]\n"
     ]
    },
    {
     "name": "stdout",
     "output_type": "stream",
     "text": [
      "\n",
      "Training loss: 0.068\n",
      "Validation loss: 0.097\n",
      "\n",
      " Epoch25 / 30\n"
     ]
    },
    {
     "name": "stderr",
     "output_type": "stream",
     "text": [
      "100%|██████████████████████████████████████████████████████████████████████████████| 3825/3825 [00:48<00:00, 79.44it/s]\n",
      "100%|██████████████████████████████████████████████████████████████████████████████| 1275/1275 [00:14<00:00, 88.70it/s]\n"
     ]
    },
    {
     "name": "stdout",
     "output_type": "stream",
     "text": [
      "\n",
      "Training loss: 0.067\n",
      "Validation loss: 0.105\n",
      "\n",
      " Epoch26 / 30\n"
     ]
    },
    {
     "name": "stderr",
     "output_type": "stream",
     "text": [
      "100%|██████████████████████████████████████████████████████████████████████████████| 3825/3825 [00:48<00:00, 79.43it/s]\n",
      "100%|██████████████████████████████████████████████████████████████████████████████| 1275/1275 [00:14<00:00, 88.69it/s]\n"
     ]
    },
    {
     "name": "stdout",
     "output_type": "stream",
     "text": [
      "\n",
      "Training loss: 0.065\n",
      "Validation loss: 0.102\n",
      "\n",
      " Epoch27 / 30\n"
     ]
    },
    {
     "name": "stderr",
     "output_type": "stream",
     "text": [
      "100%|██████████████████████████████████████████████████████████████████████████████| 3825/3825 [00:48<00:00, 79.46it/s]\n",
      "100%|██████████████████████████████████████████████████████████████████████████████| 1275/1275 [00:14<00:00, 88.68it/s]\n"
     ]
    },
    {
     "name": "stdout",
     "output_type": "stream",
     "text": [
      "\n",
      "Training loss: 0.067\n",
      "Validation loss: 0.090\n",
      "\n",
      " Epoch28 / 30\n"
     ]
    },
    {
     "name": "stderr",
     "output_type": "stream",
     "text": [
      "100%|██████████████████████████████████████████████████████████████████████████████| 3825/3825 [00:48<00:00, 79.47it/s]\n",
      "100%|██████████████████████████████████████████████████████████████████████████████| 1275/1275 [00:14<00:00, 88.70it/s]\n"
     ]
    },
    {
     "name": "stdout",
     "output_type": "stream",
     "text": [
      "\n",
      "Training loss: 0.063\n",
      "Validation loss: 0.094\n",
      "\n",
      " Epoch29 / 30\n"
     ]
    },
    {
     "name": "stderr",
     "output_type": "stream",
     "text": [
      "100%|██████████████████████████████████████████████████████████████████████████████| 3825/3825 [00:48<00:00, 79.43it/s]\n",
      "100%|██████████████████████████████████████████████████████████████████████████████| 1275/1275 [00:14<00:00, 88.74it/s]\n"
     ]
    },
    {
     "name": "stdout",
     "output_type": "stream",
     "text": [
      "\n",
      "Training loss: 0.065\n",
      "Validation loss: 0.097\n",
      "\n",
      " Epoch30 / 30\n"
     ]
    },
    {
     "name": "stderr",
     "output_type": "stream",
     "text": [
      "100%|██████████████████████████████████████████████████████████████████████████████| 3825/3825 [00:48<00:00, 79.41it/s]\n",
      "100%|██████████████████████████████████████████████████████████████████████████████| 1275/1275 [00:14<00:00, 88.70it/s]"
     ]
    },
    {
     "name": "stdout",
     "output_type": "stream",
     "text": [
      "\n",
      "Training loss: 0.064\n",
      "Validation loss: 0.093\n"
     ]
    },
    {
     "name": "stderr",
     "output_type": "stream",
     "text": [
      "\n"
     ]
    }
   ],
   "source": [
    "best_valid_loss = float('inf')\n",
    "\n",
    "train_losses = []\n",
    "valid_losses = []\n",
    "\n",
    "for epoch in range(epochs):\n",
    "    print('\\n Epoch{:} / {:}'.format(epoch+1, epochs))\n",
    "\n",
    "    train_loss, _ = train()\n",
    "    valid_loss, _ = evaluate()\n",
    "\n",
    "    if valid_loss < best_valid_loss:\n",
    "        best_valid_loss = valid_loss\n",
    "        torch.save(model.state_dict(), model_1_path)\n",
    "\n",
    "    train_losses.append(train_loss)\n",
    "    valid_losses.append(valid_loss)\n",
    "    print(f'\\nTraining loss: {train_loss:.3f}')\n",
    "    print(f'Validation loss: {valid_loss:.3f}')"
   ]
  },
  {
   "cell_type": "code",
   "execution_count": 14,
   "id": "15119a62",
   "metadata": {
    "id": "15119a62"
   },
   "outputs": [
    {
     "data": {
      "text/plain": [
       "<All keys matched successfully>"
      ]
     },
     "execution_count": 14,
     "metadata": {},
     "output_type": "execute_result"
    }
   ],
   "source": [
    "\n",
    "model.load_state_dict(torch.load(model_1_path))"
   ]
  },
  {
   "cell_type": "code",
   "execution_count": 15,
   "id": "24001802",
   "metadata": {
    "scrolled": true
   },
   "outputs": [
    {
     "name": "stderr",
     "output_type": "stream",
     "text": [
      "100%|██████████████████████████████████████████████████████████████████████████████| 1275/1275 [00:14<00:00, 88.50it/s]"
     ]
    },
    {
     "name": "stdout",
     "output_type": "stream",
     "text": [
      "0.979701902333791\n"
     ]
    },
    {
     "name": "stderr",
     "output_type": "stream",
     "text": [
      "\n"
     ]
    }
   ],
   "source": [
    "#my evaluation after training\n",
    "\n",
    "model.eval()\n",
    "model.to(device)\n",
    "count_true = 0\n",
    "count_total = 0\n",
    "for step, batch in tqdm(enumerate(test_dataloader), total = len(test_dataloader)):\n",
    "    batch = [t.to(device) for t in batch]\n",
    "    sent_id, mask, labels = batch\n",
    "    labels= labels[:amount_of_classes]\n",
    "    \n",
    "    with torch.no_grad():\n",
    "        _, cls_hs = bert(sent_id, mask, return_dict=False)\n",
    "        preds = model(cls_hs)\n",
    "        preds = torch.argmax(preds, dim=1)\n",
    "        preds = preds.cpu().numpy()\n",
    "        labels = torch.argmax(labels, dim=1)\n",
    "        labels = list((labels).cpu().numpy())\n",
    "#         print(labels==preds, preds, labels)\n",
    "    \n",
    "    for index in range(len(preds)):\n",
    "        count_total += 1\n",
    "        if preds[index] == labels[index]:\n",
    "            count_true += 1\n",
    "            \n",
    "\n",
    "print(count_true/count_total)\n",
    "        \n",
    "        "
   ]
  },
  {
   "cell_type": "code",
   "execution_count": 16,
   "id": "101d2184",
   "metadata": {},
   "outputs": [
    {
     "name": "stdout",
     "output_type": "stream",
     "text": [
      "0.979701902333791\n"
     ]
    }
   ],
   "source": [
    "print(count_true/count_total)\n",
    "# 3 epochs on group only is 0.97734\n",
    "# 0.921455 on 30 epochs with bert training"
   ]
  },
  {
   "cell_type": "code",
   "execution_count": 17,
   "id": "314a5861",
   "metadata": {},
   "outputs": [
    {
     "data": {
      "image/png": "[encoded data removed]",
      "text/plain": [
       "<Figure size 640x480 with 1 Axes>"
      ]
     },
     "metadata": {},
     "output_type": "display_data"
    }
   ],
   "source": [
    "plt.plot(valid_losses)\n",
    "plt.show()"
   ]
  },
  {
   "cell_type": "markdown",
   "id": "cf305661",
   "metadata": {},
   "source": [
    "# category classification"
   ]
  },
  {
   "cell_type": "code",
   "execution_count": 18,
   "id": "b20d7803",
   "metadata": {},
   "outputs": [],
   "source": [
    "for param in bert.parameters():\n",
    "    param.requires_grad = False\n",
    "\n",
    "class second(nn.Module):\n",
    "\n",
    "    def __init__(self, amount_of_classes, amount_of_classes_2):\n",
    "        super(second, self).__init__()\n",
    "\n",
    "        self.dropout = nn.Dropout(0.1)\n",
    "        self.relu = nn.ReLU()\n",
    "        self.fc1 = nn.Linear(768 + amount_of_classes ,1024)\n",
    "        self.fc2 = nn.Linear(1024,amount_of_classes_2)\n",
    "        self.softmax = nn.LogSoftmax(dim = 1)\n",
    "\n",
    "    def forward(self, cls_hs, target_1):\n",
    "        #cls_hs is pooler output in docs\n",
    "        #_, cls_hs = self.bert(sent_id, attention_mask = mask, return_dict = False)\n",
    "#         print(cls_hs.shape, target_1.shape)\n",
    "        concated = (torch.cat((cls_hs, target_1), 1))\n",
    "        x = self.fc1(concated)\n",
    "        x = self.relu(x)\n",
    "        x = self.dropout(x)\n",
    "        x = self.fc2(x)\n",
    "        x = self.softmax(x)\n",
    "        return x"
   ]
  },
  {
   "cell_type": "code",
   "execution_count": 19,
   "id": "c162a6c0",
   "metadata": {},
   "outputs": [
    {
     "name": "stderr",
     "output_type": "stream",
     "text": [
      "C:\\Users\\admin\\AppData\\Local\\Programs\\Python\\Python311\\Lib\\site-packages\\transformers\\optimization.py:411: FutureWarning: This implementation of AdamW is deprecated and will be removed in a future version. Use the PyTorch implementation torch.optim.AdamW instead, or set `no_deprecation_warning=True` to disable this warning\n",
      "  warnings.warn(\n"
     ]
    }
   ],
   "source": [
    "epochs = 20\n",
    "\n",
    "cross_entropy = nn.CrossEntropyLoss()\n",
    "# cross_entropy = nn.KLDivLoss(reduction=\"batchmean\")\n",
    "\n",
    "model_second = second(amount_of_classes, amount_of_classes_2)\n",
    "\n",
    "model_second = model_second.to(device)\n",
    "from transformers import AdamW\n",
    "\n",
    "optimizer = AdamW(model.parameters(), lr= 1e-3)\n",
    "\n",
    "model_2_path = os.path.join('..', 'model', 'model2.pt')"
   ]
  },
  {
   "cell_type": "code",
   "execution_count": 20,
   "id": "db72c2ad",
   "metadata": {},
   "outputs": [],
   "source": [
    "def evaluate_second():\n",
    "    model_second.eval()\n",
    "    total_loss, total_accuracy = 0,0\n",
    "    total_preds = []\n",
    "\n",
    "    for step, batch in tqdm(enumerate(val_dataloader), total = len(val_dataloader)):\n",
    "        batch = [t.to(device) for t in batch]\n",
    "        sent_id, mask, labels = batch\n",
    "        \n",
    "        #my bad code\n",
    "        labels= list(labels.cpu().numpy())\n",
    "        corr_answ = []\n",
    "        for label in labels:\n",
    "            label = list(label[amount_of_classes:])\n",
    "            corr_answ.append(label.index(1))\n",
    "        corr_answ = torch.tensor(corr_answ).to(device)\n",
    "            \n",
    "\n",
    "        with torch.no_grad():\n",
    "            _, cls_hs = bert(sent_id, attention_mask = mask, return_dict = False)\n",
    "\n",
    "            target_1 = model(cls_hs)\n",
    "            preds = model_second(cls_hs, target_1)\n",
    "\n",
    "            #labels = torch.argmax(labels, dim=1)\n",
    "\n",
    "            loss = cross_entropy(preds, corr_answ)\n",
    "\n",
    "            total_loss = total_loss + loss.item()\n",
    "            preds = preds.detach().cpu().numpy()\n",
    "            total_preds.append(preds)\n",
    "            \n",
    "            \n",
    "            \n",
    "\n",
    "\n",
    "    avg_loss = total_loss / len(val_dataloader)\n",
    "    total_preds = np.concatenate(total_preds, axis = 0)\n",
    "\n",
    "    return avg_loss, total_preds\n"
   ]
  },
  {
   "cell_type": "code",
   "execution_count": 21,
   "id": "4d771bc9",
   "metadata": {},
   "outputs": [],
   "source": [
    "def train_second():\n",
    "    model_second.train()\n",
    "    total_loss, total_accuracy = 0, 0\n",
    "    total_preds = []\n",
    "\n",
    "    for step, batch in tqdm(enumerate(train_dataloader), total = len(train_dataloader)):\n",
    "        batch = [r.to(device) for r in batch]\n",
    "        sent_id,mask,labels = batch\n",
    "        \n",
    "        labels= list(labels.cpu().numpy())\n",
    "        corr_answ = []\n",
    "        for label in labels:\n",
    "            label = list(label[amount_of_classes:])\n",
    "            corr_answ.append(label.index(1))\n",
    "        corr_answ = torch.tensor(corr_answ).to(device)\n",
    "        \n",
    "#         print('correct answers (indexes):', corr_answ)\n",
    "#         print('labels:', labels)\n",
    "        \n",
    "        model_second.zero_grad()\n",
    "        _, cls_hs = bert(sent_id, attention_mask = mask, return_dict = False)\n",
    "        target_1 = model(cls_hs)\n",
    "        \n",
    "        preds = model_second(cls_hs, target_1)\n",
    "\n",
    "#         for i in range(len(corr_answ)):\n",
    "            \n",
    "        \n",
    "        loss = cross_entropy(preds, corr_answ)\n",
    "\n",
    "        total_loss += loss.item()\n",
    "        loss.backward()\n",
    "        torch.nn.utils.clip_grad_norm_(model.parameters(), 1.0)\n",
    "        optimizer.step()\n",
    "        preds = preds.detach().cpu().numpy()\n",
    "        total_preds.append(preds)\n",
    "        \n",
    "\n",
    "    avg_loss = total_loss / len(train_dataloader)\n",
    "    total_preds = np.concatenate(total_preds, axis = 0)\n",
    "\n",
    "    return avg_loss, total_preds"
   ]
  },
  {
   "cell_type": "code",
   "execution_count": 22,
   "id": "f0pfewS7XtrF",
   "metadata": {
    "id": "f0pfewS7XtrF",
    "scrolled": true
   },
   "outputs": [
    {
     "name": "stdout",
     "output_type": "stream",
     "text": [
      "\n",
      " Epoch1 / 20\n"
     ]
    },
    {
     "name": "stderr",
     "output_type": "stream",
     "text": [
      "100%|██████████████████████████████████████████████████████████████████████████████| 3825/3825 [00:50<00:00, 75.83it/s]\n",
      "100%|██████████████████████████████████████████████████████████████████████████████| 1275/1275 [00:14<00:00, 87.17it/s]\n"
     ]
    },
    {
     "name": "stdout",
     "output_type": "stream",
     "text": [
      "saving...\n",
      "\n",
      "Training loss: 3.137\n",
      "Validation loss: 2.722\n",
      "\n",
      " Epoch2 / 20\n"
     ]
    },
    {
     "name": "stderr",
     "output_type": "stream",
     "text": [
      "100%|██████████████████████████████████████████████████████████████████████████████| 3825/3825 [00:50<00:00, 75.76it/s]\n",
      "100%|██████████████████████████████████████████████████████████████████████████████| 1275/1275 [00:14<00:00, 87.36it/s]\n"
     ]
    },
    {
     "name": "stdout",
     "output_type": "stream",
     "text": [
      "saving...\n",
      "\n",
      "Training loss: 2.700\n",
      "Validation loss: 2.519\n",
      "\n",
      " Epoch3 / 20\n"
     ]
    },
    {
     "name": "stderr",
     "output_type": "stream",
     "text": [
      "100%|██████████████████████████████████████████████████████████████████████████████| 3825/3825 [00:50<00:00, 75.74it/s]\n",
      "100%|██████████████████████████████████████████████████████████████████████████████| 1275/1275 [00:14<00:00, 87.40it/s]\n"
     ]
    },
    {
     "name": "stdout",
     "output_type": "stream",
     "text": [
      "saving...\n",
      "\n",
      "Training loss: 2.578\n",
      "Validation loss: 2.444\n",
      "\n",
      " Epoch4 / 20\n"
     ]
    },
    {
     "name": "stderr",
     "output_type": "stream",
     "text": [
      "100%|██████████████████████████████████████████████████████████████████████████████| 3825/3825 [00:50<00:00, 75.72it/s]\n",
      "100%|██████████████████████████████████████████████████████████████████████████████| 1275/1275 [00:14<00:00, 87.48it/s]\n"
     ]
    },
    {
     "name": "stdout",
     "output_type": "stream",
     "text": [
      "saving...\n",
      "\n",
      "Training loss: 2.507\n",
      "Validation loss: 2.383\n",
      "\n",
      " Epoch5 / 20\n"
     ]
    },
    {
     "name": "stderr",
     "output_type": "stream",
     "text": [
      "100%|██████████████████████████████████████████████████████████████████████████████| 3825/3825 [00:50<00:00, 75.71it/s]\n",
      "100%|██████████████████████████████████████████████████████████████████████████████| 1275/1275 [00:14<00:00, 87.47it/s]\n"
     ]
    },
    {
     "name": "stdout",
     "output_type": "stream",
     "text": [
      "saving...\n",
      "\n",
      "Training loss: 2.467\n",
      "Validation loss: 2.340\n",
      "\n",
      " Epoch6 / 20\n"
     ]
    },
    {
     "name": "stderr",
     "output_type": "stream",
     "text": [
      "100%|██████████████████████████████████████████████████████████████████████████████| 3825/3825 [00:50<00:00, 75.72it/s]\n",
      "100%|██████████████████████████████████████████████████████████████████████████████| 1275/1275 [00:14<00:00, 87.32it/s]\n"
     ]
    },
    {
     "name": "stdout",
     "output_type": "stream",
     "text": [
      "saving...\n",
      "\n",
      "Training loss: 2.432\n",
      "Validation loss: 2.326\n",
      "\n",
      " Epoch7 / 20\n"
     ]
    },
    {
     "name": "stderr",
     "output_type": "stream",
     "text": [
      "100%|██████████████████████████████████████████████████████████████████████████████| 3825/3825 [00:50<00:00, 75.79it/s]\n",
      "100%|██████████████████████████████████████████████████████████████████████████████| 1275/1275 [00:14<00:00, 87.31it/s]\n"
     ]
    },
    {
     "name": "stdout",
     "output_type": "stream",
     "text": [
      "saving...\n",
      "\n",
      "Training loss: 2.403\n",
      "Validation loss: 2.267\n",
      "\n",
      " Epoch8 / 20\n"
     ]
    },
    {
     "name": "stderr",
     "output_type": "stream",
     "text": [
      "100%|██████████████████████████████████████████████████████████████████████████████| 3825/3825 [00:50<00:00, 75.81it/s]\n",
      "100%|██████████████████████████████████████████████████████████████████████████████| 1275/1275 [00:14<00:00, 87.37it/s]\n"
     ]
    },
    {
     "name": "stdout",
     "output_type": "stream",
     "text": [
      "\n",
      "Training loss: 2.382\n",
      "Validation loss: 2.269\n",
      "\n",
      " Epoch9 / 20\n"
     ]
    },
    {
     "name": "stderr",
     "output_type": "stream",
     "text": [
      "100%|██████████████████████████████████████████████████████████████████████████████| 3825/3825 [00:50<00:00, 75.76it/s]\n",
      "100%|██████████████████████████████████████████████████████████████████████████████| 1275/1275 [00:14<00:00, 87.44it/s]\n"
     ]
    },
    {
     "name": "stdout",
     "output_type": "stream",
     "text": [
      "saving...\n",
      "\n",
      "Training loss: 2.361\n",
      "Validation loss: 2.247\n",
      "\n",
      " Epoch10 / 20\n"
     ]
    },
    {
     "name": "stderr",
     "output_type": "stream",
     "text": [
      "100%|██████████████████████████████████████████████████████████████████████████████| 3825/3825 [00:50<00:00, 75.71it/s]\n",
      "100%|██████████████████████████████████████████████████████████████████████████████| 1275/1275 [00:14<00:00, 87.38it/s]\n"
     ]
    },
    {
     "name": "stdout",
     "output_type": "stream",
     "text": [
      "saving...\n",
      "\n",
      "Training loss: 2.337\n",
      "Validation loss: 2.232\n",
      "\n",
      " Epoch11 / 20\n"
     ]
    },
    {
     "name": "stderr",
     "output_type": "stream",
     "text": [
      "100%|██████████████████████████████████████████████████████████████████████████████| 3825/3825 [00:50<00:00, 75.62it/s]\n",
      "100%|██████████████████████████████████████████████████████████████████████████████| 1275/1275 [00:14<00:00, 87.46it/s]\n"
     ]
    },
    {
     "name": "stdout",
     "output_type": "stream",
     "text": [
      "\n",
      "Training loss: 2.320\n",
      "Validation loss: 2.250\n",
      "\n",
      " Epoch12 / 20\n"
     ]
    },
    {
     "name": "stderr",
     "output_type": "stream",
     "text": [
      "100%|██████████████████████████████████████████████████████████████████████████████| 3825/3825 [00:50<00:00, 75.73it/s]\n",
      "100%|██████████████████████████████████████████████████████████████████████████████| 1275/1275 [00:14<00:00, 87.37it/s]\n"
     ]
    },
    {
     "name": "stdout",
     "output_type": "stream",
     "text": [
      "saving...\n",
      "\n",
      "Training loss: 2.311\n",
      "Validation loss: 2.225\n",
      "\n",
      " Epoch13 / 20\n"
     ]
    },
    {
     "name": "stderr",
     "output_type": "stream",
     "text": [
      "100%|██████████████████████████████████████████████████████████████████████████████| 3825/3825 [00:50<00:00, 75.48it/s]\n",
      "100%|██████████████████████████████████████████████████████████████████████████████| 1275/1275 [00:14<00:00, 87.34it/s]\n"
     ]
    },
    {
     "name": "stdout",
     "output_type": "stream",
     "text": [
      "saving...\n",
      "\n",
      "Training loss: 2.298\n",
      "Validation loss: 2.179\n",
      "\n",
      " Epoch14 / 20\n"
     ]
    },
    {
     "name": "stderr",
     "output_type": "stream",
     "text": [
      "100%|██████████████████████████████████████████████████████████████████████████████| 3825/3825 [00:50<00:00, 75.58it/s]\n",
      "100%|██████████████████████████████████████████████████████████████████████████████| 1275/1275 [00:14<00:00, 87.32it/s]\n"
     ]
    },
    {
     "name": "stdout",
     "output_type": "stream",
     "text": [
      "\n",
      "Training loss: 2.289\n",
      "Validation loss: 2.209\n",
      "\n",
      " Epoch15 / 20\n"
     ]
    },
    {
     "name": "stderr",
     "output_type": "stream",
     "text": [
      "100%|██████████████████████████████████████████████████████████████████████████████| 3825/3825 [00:50<00:00, 75.61it/s]\n",
      "100%|██████████████████████████████████████████████████████████████████████████████| 1275/1275 [00:14<00:00, 87.33it/s]\n"
     ]
    },
    {
     "name": "stdout",
     "output_type": "stream",
     "text": [
      "\n",
      "Training loss: 2.276\n",
      "Validation loss: 2.197\n",
      "\n",
      " Epoch16 / 20\n"
     ]
    },
    {
     "name": "stderr",
     "output_type": "stream",
     "text": [
      "100%|██████████████████████████████████████████████████████████████████████████████| 3825/3825 [00:50<00:00, 75.72it/s]\n",
      "100%|██████████████████████████████████████████████████████████████████████████████| 1275/1275 [00:14<00:00, 87.39it/s]\n"
     ]
    },
    {
     "name": "stdout",
     "output_type": "stream",
     "text": [
      "\n",
      "Training loss: 2.264\n",
      "Validation loss: 2.187\n",
      "\n",
      " Epoch17 / 20\n"
     ]
    },
    {
     "name": "stderr",
     "output_type": "stream",
     "text": [
      "100%|██████████████████████████████████████████████████████████████████████████████| 3825/3825 [00:50<00:00, 75.68it/s]\n",
      "100%|██████████████████████████████████████████████████████████████████████████████| 1275/1275 [00:14<00:00, 87.41it/s]\n"
     ]
    },
    {
     "name": "stdout",
     "output_type": "stream",
     "text": [
      "saving...\n",
      "\n",
      "Training loss: 2.259\n",
      "Validation loss: 2.169\n",
      "\n",
      " Epoch18 / 20\n"
     ]
    },
    {
     "name": "stderr",
     "output_type": "stream",
     "text": [
      "100%|██████████████████████████████████████████████████████████████████████████████| 3825/3825 [00:50<00:00, 75.75it/s]\n",
      "100%|██████████████████████████████████████████████████████████████████████████████| 1275/1275 [00:14<00:00, 86.70it/s]\n"
     ]
    },
    {
     "name": "stdout",
     "output_type": "stream",
     "text": [
      "\n",
      "Training loss: 2.246\n",
      "Validation loss: 2.172\n",
      "\n",
      " Epoch19 / 20\n"
     ]
    },
    {
     "name": "stderr",
     "output_type": "stream",
     "text": [
      "100%|██████████████████████████████████████████████████████████████████████████████| 3825/3825 [00:50<00:00, 75.79it/s]\n",
      "100%|██████████████████████████████████████████████████████████████████████████████| 1275/1275 [00:14<00:00, 87.32it/s]\n"
     ]
    },
    {
     "name": "stdout",
     "output_type": "stream",
     "text": [
      "\n",
      "Training loss: 2.233\n",
      "Validation loss: 2.181\n",
      "\n",
      " Epoch20 / 20\n"
     ]
    },
    {
     "name": "stderr",
     "output_type": "stream",
     "text": [
      "100%|██████████████████████████████████████████████████████████████████████████████| 3825/3825 [00:50<00:00, 75.76it/s]\n",
      "100%|██████████████████████████████████████████████████████████████████████████████| 1275/1275 [00:14<00:00, 87.32it/s]"
     ]
    },
    {
     "name": "stdout",
     "output_type": "stream",
     "text": [
      "saving...\n",
      "\n",
      "Training loss: 2.229\n",
      "Validation loss: 2.167\n"
     ]
    },
    {
     "name": "stderr",
     "output_type": "stream",
     "text": [
      "\n"
     ]
    }
   ],
   "source": [
    "best_valid_loss = float('inf')\n",
    "\n",
    "train_losses = []\n",
    "valid_losses = []\n",
    "\n",
    "for epoch in range(epochs):\n",
    "    print('\\n Epoch{:} / {:}'.format(epoch+1, epochs))\n",
    "\n",
    "    train_loss, _ = train_second()\n",
    "    valid_loss, _ = evaluate_second()\n",
    "\n",
    "    if valid_loss < best_valid_loss:\n",
    "        best_valid_loss = valid_loss\n",
    "        print('saving...')\n",
    "        torch.save(model_second.state_dict(), model_2_path)\n",
    "\n",
    "    train_losses.append(train_loss)\n",
    "    valid_losses.append(valid_loss)\n",
    "    print(f'\\nTraining loss: {train_loss:.3f}')\n",
    "    print(f'Validation loss: {valid_loss:.3f}')"
   ]
  },
  {
   "cell_type": "code",
   "execution_count": 23,
   "id": "2051b937",
   "metadata": {},
   "outputs": [
    {
     "data": {
      "text/plain": [
       "<All keys matched successfully>"
      ]
     },
     "execution_count": 23,
     "metadata": {},
     "output_type": "execute_result"
    }
   ],
   "source": [
    "\n",
    "model_second.load_state_dict(torch.load(model_2_path))"
   ]
  },
  {
   "cell_type": "code",
   "execution_count": 24,
   "id": "6a40042a",
   "metadata": {},
   "outputs": [
    {
     "name": "stderr",
     "output_type": "stream",
     "text": [
      "100%|██████████████████████████████████████████████████████████████████████████████| 1275/1275 [00:15<00:00, 83.90it/s]"
     ]
    },
    {
     "name": "stdout",
     "output_type": "stream",
     "text": [
      "0.5618197862535542\n"
     ]
    },
    {
     "name": "stderr",
     "output_type": "stream",
     "text": [
      "\n"
     ]
    }
   ],
   "source": [
    "#my evaluation after training\n",
    "\n",
    "model_second.eval()\n",
    "model_second.to(device)\n",
    "count_true = 0\n",
    "count_total = 1\n",
    "for step, batch in tqdm(enumerate(test_dataloader), total = len(test_dataloader)):\n",
    "    batch = [t.to(device) for t in batch]\n",
    "    sent_id, mask, labels = batch\n",
    "\n",
    "    with torch.no_grad():\n",
    "        _, cls_hs = bert(sent_id, attention_mask = mask, return_dict = False)\n",
    "        target_1 = model(cls_hs)\n",
    "        preds=model_second(cls_hs, target_1)\n",
    "        preds = torch.argmax(preds, dim=1)\n",
    "        preds = preds.cpu().numpy()\n",
    "\n",
    "    labels = list(labels)\n",
    "\n",
    "\n",
    "    for index in range(len(preds)):        \n",
    "        correct = list(labels[index][amount_of_classes:].cpu().numpy()).index(1)\n",
    "\n",
    "        count_total += 1\n",
    "        tmp1 = [0] * amount_of_classes_2\n",
    "\n",
    "        \n",
    "        tmp2 = [0] * amount_of_classes_2\n",
    "        tmp2[correct] = 1\n",
    "        tmp1, tmp2 = torch.tensor([tmp1]), torch.tensor([tmp2])\n",
    "        #print(tokenizer.convert_ids_to_tokens(sent_id[index]))\n",
    "        if preds[index] == correct:\n",
    "            count_true += 1\n",
    "            \n",
    "\n",
    "print(count_true/count_total)\n",
    "        \n",
    "        "
   ]
  },
  {
   "cell_type": "code",
   "execution_count": null,
   "id": "ee34bf13",
   "metadata": {},
   "outputs": [],
   "source": [
    "!"
   ]
  },
  {
   "cell_type": "code",
   "execution_count": 25,
   "id": "832ee7c7",
   "metadata": {},
   "outputs": [],
   "source": [
    "import pickle\n",
    "\n",
    "encoders = {'path1': model_1_path, 'path2':model_2_path, 'encoder1': encoder, 'encoder2':encoder_2, \n",
    "            'num_classes1': amount_of_classes, 'num_classes2':amount_of_classes_2}\n",
    "\n",
    "pickle_path = os.path.join('..', 'model', 'encoders.pkl')\n",
    "with open(pickle_path, \"wb\") as f:\n",
    "    pickle.dump(encoders, f)"
   ]
  },
  {
   "cell_type": "code",
   "execution_count": 26,
   "id": "bedfb968",
   "metadata": {},
   "outputs": [
    {
     "name": "stdout",
     "output_type": "stream",
     "text": [
      "{'path1': '..\\\\model\\\\model1.pt', 'path2': '..\\\\model\\\\model2.pt', 'encoder1': LabelBinarizer(), 'encoder2': LabelBinarizer(), 'num_classes1': 22, 'num_classes2': 97}\n"
     ]
    }
   ],
   "source": [
    "print(encoders)"
   ]
  },
  {
   "cell_type": "code",
   "execution_count": null,
   "id": "dc121ae0",
   "metadata": {},
   "outputs": [],
   "source": []
  },
  {
   "cell_type": "code",
   "execution_count": null,
   "id": "c1803680",
   "metadata": {},
   "outputs": [],
   "source": []
  },
  {
   "cell_type": "code",
   "execution_count": null,
   "id": "c9119f65",
   "metadata": {},
   "outputs": [],
   "source": []
  }
 ],
 "metadata": {
  "accelerator": "GPU",
  "colab": {
   "provenance": []
  },
  "kernelspec": {
   "display_name": "Python 3 (ipykernel)",
   "language": "python",
   "name": "python3"
  },
  "language_info": {
   "codemirror_mode": {
    "name": "ipython",
    "version": 3
   },
   "file_extension": ".py",
   "mimetype": "text/x-python",
   "name": "python",
   "nbconvert_exporter": "python",
   "pygments_lexer": "ipython3",
   "version": "3.11.1"
  },
  "widgets": {
   "application/vnd.jupyter.widget-state+json": {
    "state": {},
    "version_major": 2,
    "version_minor": 0
   }
  }
 },
 "nbformat": 4,
 "nbformat_minor": 5
}
